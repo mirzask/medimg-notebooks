{
 "cells": [
  {
   "cell_type": "markdown",
   "metadata": {},
   "source": [
    "# MedNIST using MONAI\n",
    "\n",
    "I attempted to use MONAI 0.2.0rc2 on 7/2/2020, but it seems like there are some bugs, so I went with the most stable version prior to that, which was 0.1.0, which can be installed using `pip install monai==0.1.0`.\n",
    "\n",
    "As shown in the MONAI MedNIST Tutorial, the data can be downloaded using `!wget -q https://www.dropbox.com/s/5wwskxctvcxiuea/MedNIST.tar.gz`. If you wish to untar this file, you can use the following code:\n",
    "\n",
    "```python\n",
    "# unzip the '.tar.gz' file to the current directory\n",
    "import tarfile\n",
    "datafile = tarfile.open(\"MedNIST.tar.gz\")\n",
    "datafile.extractall()\n",
    "datafile.close()\n",
    "```"
   ]
  },
  {
   "cell_type": "code",
   "execution_count": 1,
   "metadata": {},
   "outputs": [
    {
     "name": "stdout",
     "output_type": "stream",
     "text": [
      "MONAI version: 0.1.0\n",
      "Python version: 3.8.3 | packaged by conda-forge | (default, Jun  1 2020, 17:43:00)  [GCC 7.5.0]\n",
      "Numpy version: 1.18.5\n",
      "Pytorch version: 1.5.1\n",
      "Ignite version: 0.3.0\n"
     ]
    }
   ],
   "source": [
    "# To handle the files\n",
    "import os\n",
    "from pathlib import Path\n",
    "\n",
    "\n",
    "import numpy as np\n",
    "import matplotlib.pyplot as plt\n",
    "from PIL import Image\n",
    "from sklearn.model_selection import train_test_split\n",
    "\n",
    "import torch\n",
    "from torch.utils.data import Dataset, DataLoader\n",
    "import torch.nn.functional as F\n",
    "\n",
    "from argparse import Namespace\n",
    "import pytorch_lightning as pl\n",
    "from pytorch_lightning import Trainer\n",
    "from pytorch_lightning.callbacks import EarlyStopping, ModelCheckpoint\n",
    "\n",
    "import monai\n",
    "from monai.config import print_config\n",
    "from monai.transforms import \\\n",
    "    Compose, LoadPNG, AddChannel, ScaleIntensity, ToTensor, RandRotate, RandFlip, RandZoom\n",
    "from monai.networks.nets import densenet121\n",
    "#from monai.metrics import compute_roc_auc\n",
    "\n",
    "device = torch.device(\"cuda:0\" if torch.cuda.is_available() else \"cpu\")\n",
    "\n",
    "np.random.seed(0)\n",
    "print_config()"
   ]
  },
  {
   "cell_type": "markdown",
   "metadata": {},
   "source": [
    "I do not ~~normally~~ use Ignite, but I believe MONAI includes it as a requirement (although I could be wrong about that).\n",
    "\n",
    "# Getting the image files in order\n",
    "\n",
    "The MONAI tutorial uses `os` rather than `pathlib.Path`, which is what I prefer. I ended up tweaking the code to play nicely with `pathlib.Path`. It was only later that I saw that `rising` in their tutorial had also made the swap. Unsurprisingly, our code ends up looking almost the same. I was curious to see which of the two - `os` versus `pathlib.Path` - was faster because (at least subjectively) `os` seemed snappier."
   ]
  },
  {
   "cell_type": "code",
   "execution_count": 2,
   "metadata": {},
   "outputs": [
    {
     "name": "stdout",
     "output_type": "stream",
     "text": [
      "205 ms ± 194 µs per loop (mean ± std. dev. of 7 runs, 1 loop each)\n"
     ]
    }
   ],
   "source": [
    "%%timeit\n",
    "\n",
    "# `os` version\n",
    "data_dir = str(Path.cwd().parent / 'data' / 'MedNIST')\n",
    "class_names = sorted([x for x in os.listdir(data_dir) if os.path.isdir(os.path.join(data_dir, x))])\n",
    "num_class = len(class_names)\n",
    "image_files = [[os.path.join(data_dir, class_name, x) \n",
    "                for x in os.listdir(os.path.join(data_dir, class_name))] \n",
    "               for class_name in class_names]\n",
    "image_file_list = []\n",
    "image_label_list = []\n",
    "for i, class_name in enumerate(class_names):\n",
    "    image_file_list.extend(image_files[i])\n",
    "    image_label_list.extend([i] * len(image_files[i]))\n",
    "num_total = len(image_label_list)\n",
    "image_width, image_height = Image.open(image_file_list[0]).size"
   ]
  },
  {
   "cell_type": "code",
   "execution_count": 3,
   "metadata": {},
   "outputs": [
    {
     "name": "stdout",
     "output_type": "stream",
     "text": [
      "292 ms ± 651 µs per loop (mean ± std. dev. of 7 runs, 1 loop each)\n"
     ]
    }
   ],
   "source": [
    "%%timeit\n",
    "\n",
    "# my `pathlib` version\n",
    "data_dir = Path.cwd().parent / 'data' / 'MedNIST'\n",
    "class_names = sorted( [x.stem for x in data_dir.iterdir() if x.is_dir()] )\n",
    "num_class = len(class_names)\n",
    "image_files = [list( (data_dir / c).glob(\"*.jpeg\") ) for c in class_names]  # I went with `glob`\n",
    "\n",
    "image_file_list = []\n",
    "image_label_list = []\n",
    "for i, class_name in enumerate(class_names):\n",
    "    image_file_list.extend(image_files[i])\n",
    "    image_label_list.extend([i] * len(image_files[i]))\n",
    "num_total = len(image_label_list)\n",
    "image_width, image_height = Image.open(image_file_list[0]).size"
   ]
  },
  {
   "cell_type": "code",
   "execution_count": 4,
   "metadata": {},
   "outputs": [
    {
     "name": "stdout",
     "output_type": "stream",
     "text": [
      "170 ms ± 594 µs per loop (mean ± std. dev. of 7 runs, 10 loops each)\n"
     ]
    }
   ],
   "source": [
    "%%timeit\n",
    "\n",
    "# rising's `pathlib` version (non-glob)\n",
    "data_dir = Path.cwd().parent / 'data' / 'MedNIST'\n",
    "class_names = sorted([p.stem for p in data_dir.iterdir() if p.is_dir()])\n",
    "num_class = len(class_names)\n",
    "\n",
    "image_files = [[x for x in (data_dir / class_name).iterdir()] for class_name in class_names]\n",
    "\n",
    "image_file_list = []\n",
    "image_label_list = []\n",
    "for i, class_name in enumerate(class_names):\n",
    "    image_file_list.extend(image_files[i])\n",
    "    image_label_list.extend([i] * len(image_files[i]))\n",
    "\n",
    "num_total = len(image_label_list)\n",
    "image_width, image_height = Image.open(image_file_list[0]).size"
   ]
  },
  {
   "cell_type": "markdown",
   "metadata": {},
   "source": [
    "It seems as though `pathlib.Path` can be faster, but that using the \"non-glob\" version of the code will get you there."
   ]
  },
  {
   "cell_type": "code",
   "execution_count": 5,
   "metadata": {},
   "outputs": [
    {
     "name": "stdout",
     "output_type": "stream",
     "text": [
      "Total image count: 58954\n",
      "Image dimensions: 64 x 64\n",
      "Label names: ['AbdomenCT', 'BreastMRI', 'CXR', 'ChestCT', 'Hand', 'HeadCT']\n",
      "Label counts: [10000, 8954, 10000, 10000, 10000, 10000]\n"
     ]
    }
   ],
   "source": [
    "data_dir = Path.cwd().parent / 'data' / 'MedNIST'\n",
    "class_names = sorted([p.stem for p in data_dir.iterdir() if p.is_dir()])\n",
    "num_class = len(class_names)\n",
    "\n",
    "image_files = [[x for x in (data_dir / class_name).iterdir()] for class_name in class_names]\n",
    "\n",
    "image_file_list = []\n",
    "image_label_list = []\n",
    "for i, class_name in enumerate(class_names):\n",
    "    image_file_list.extend(image_files[i])\n",
    "    image_label_list.extend([i] * len(image_files[i]))\n",
    "\n",
    "num_total = len(image_label_list)\n",
    "image_width, image_height = Image.open(image_file_list[0]).size\n",
    "\n",
    "print('Total image count:', num_total)\n",
    "print(\"Image dimensions:\", image_width, \"x\", image_height)\n",
    "print(\"Label names:\", class_names)\n",
    "print(\"Label counts:\", [len(image_files[i]) for i in range(num_class)])"
   ]
  },
  {
   "cell_type": "markdown",
   "metadata": {},
   "source": [
    "# Visualize a random subset of the image files with the associated label"
   ]
  },
  {
   "cell_type": "code",
   "execution_count": 6,
   "metadata": {},
   "outputs": [
    {
     "data": {
      "image/png": "[encoded data removed]",
      "text/plain": [
       "<Figure size 576x576 with 9 Axes>"
      ]
     },
     "metadata": {
      "needs_background": "light"
     },
     "output_type": "display_data"
    }
   ],
   "source": [
    "plt.subplots(3, 3, figsize=(8, 8))\n",
    "for i,k in enumerate(np.random.randint(num_total, size=9)):\n",
    "    im = Image.open(image_file_list[k])\n",
    "    arr = np.array(im)\n",
    "    plt.subplot(3, 3, i + 1)\n",
    "    plt.xlabel(class_names[image_label_list[k]])\n",
    "    plt.imshow(arr, cmap='gray', vmin=0, vmax=255)\n",
    "plt.tight_layout()\n",
    "plt.show()"
   ]
  },
  {
   "cell_type": "markdown",
   "metadata": {},
   "source": [
    "# Create training, validation and test sets\n",
    "\n",
    "Options include: \n",
    "\n",
    "- Using scikit-learn's `train_test_split`\n",
    "- Using PyTorch's `random_split` (not shown)\n",
    "- A good ol' for loop\n",
    "\n",
    "## For loop approach:\n",
    "\n",
    "```python\n",
    "#from MONAI tutorial\n",
    "valid_frac, test_frac = 0.1, 0.1\n",
    "trainX, trainY = [], []\n",
    "valX, valY = [], []\n",
    "testX, testY = [], []\n",
    "\n",
    "for i in range(num_total):\n",
    "    rann = np.random.random()\n",
    "    if rann < valid_frac:\n",
    "        valX.append(image_file_list[i])\n",
    "        valY.append(image_label_list[i])\n",
    "    elif rann < test_frac + valid_frac:\n",
    "        testX.append(image_file_list[i])\n",
    "        testY.append(image_label_list[i])\n",
    "    else:\n",
    "        trainX.append(image_file_list[i])\n",
    "        trainY.append(image_label_list[i])\n",
    "\n",
    "print(\"Training count =\",len(trainX),\"Validation count =\", len(valX), \"Test count =\",len(testX))\n",
    "```\n",
    "\n",
    "## Scikit-learn approach\n",
    "\n",
    "I favor this approach because it allows me to easily stratify the label classes across the training, validation and test sets.\n",
    "\n",
    "```python\n",
    "from sklearn.model_selection import train_test_split\n",
    "\n",
    "X_trainval, X_test, y_trainval, y_test = train_test_split(X, y, test_size=0.1, stratify=y)\n",
    "X_train, X_val, y_train, y_val = train_test_split(X_trainval, y_trainval, test_size=0.1, stratify=y_trainval)\n",
    "\n",
    "print(len(X_train), len(y_train))\n",
    "print(len(X_val), len(y_val))\n",
    "print(len(X_test), len(y_test))\n",
    "```"
   ]
  },
  {
   "cell_type": "markdown",
   "metadata": {},
   "source": [
    "# Create `Dataset`\n",
    "\n",
    "I used the classic `torch.utils.data.Dataset`, i.e. the PyTorch's native `Dataset` class, but others could have also been used. They are all just building off of this one anyway."
   ]
  },
  {
   "cell_type": "code",
   "execution_count": 7,
   "metadata": {},
   "outputs": [],
   "source": [
    "class MedNISTDataset(Dataset):\n",
    "\n",
    "    def __init__(self, image_files, labels, transforms):\n",
    "        \"\"\"\n",
    "        Args:\n",
    "          image_files: paths to the image files\n",
    "          labels: label for each file\n",
    "          transforms: the MONAI transforms you want to use\n",
    "        \"\"\"\n",
    "        assert len(image_files) == len(labels), \"Every file needs a label\"\n",
    "        self.image_files = image_files\n",
    "        self.labels = labels\n",
    "        self.transforms = transforms\n",
    "\n",
    "    def __len__(self) -> int:\n",
    "        \"\"\"\n",
    "        Number of samples inside the dataset\n",
    "\n",
    "        Returns:\n",
    "          int: length\n",
    "        \"\"\"\n",
    "        return len(self.image_files)\n",
    "\n",
    "    def __getitem__(self, index):\n",
    "        \"\"\"\n",
    "        Select an individual sample from the dataset\n",
    "        \n",
    "        Args:\n",
    "          index: index of sample to draw\n",
    "          \n",
    "        Return:\n",
    "          A tuple containing a single sample of image data and its label\n",
    "        \"\"\"\n",
    "        return self.transforms(self.image_files[index]), self.labels[index]"
   ]
  },
  {
   "cell_type": "markdown",
   "metadata": {},
   "source": [
    "# PyTorch Lightning"
   ]
  },
  {
   "cell_type": "code",
   "execution_count": 8,
   "metadata": {},
   "outputs": [],
   "source": [
    "#Hyperparameters\n",
    "# bs = 300\n",
    "# num_workers = 10\n",
    "# #lr = 1e-3\n",
    "\n",
    "hparams = Namespace(\n",
    "    batch_size = 300,\n",
    "    num_workers = 10,\n",
    "    learning_rate=0.001,\n",
    ")\n",
    "\n",
    "\n",
    "class Net(pl.LightningModule):\n",
    "    def __init__(self, hparams=hparams, *args, **kwargs):\n",
    "        super(Net, self).__init__()\n",
    "        self.model = monai.networks.nets.densenet121(spatial_dims=2, in_channels=1, out_channels=num_class).to(device)\n",
    "        self.loss_function = torch.nn.CrossEntropyLoss()\n",
    "        self.hparams = hparams\n",
    "        self.learning_rate = hparams.learning_rate\n",
    "        self.batch_size = hparams.batch_size\n",
    "        \n",
    "    def forward(self, x):\n",
    "        return self.model(x)\n",
    "    \n",
    "    def training_step(self, batch, batch_idx):\n",
    "        #x, y = batch['image'], batch['label']\n",
    "        x, y = batch\n",
    "        y_hat = self.forward(x)\n",
    "        \n",
    "        loss = self.loss_function(y_hat, y)\n",
    "        tensorboard_logs = {'train_loss': loss.item()}\n",
    "        return {'loss': loss, 'log': tensorboard_logs}\n",
    "    \n",
    "    def validation_step(self, batch, batch_idx):\n",
    "        #x, y = batch['image'], batch['label']\n",
    "        x, y = batch\n",
    "        y_hat = self.forward(x)\n",
    "        return {'val_loss': self.loss_function(y_hat, y)}\n",
    "\n",
    "    def validation_epoch_end(self, outputs):\n",
    "        avg_loss = torch.stack([x['val_loss'] for x in outputs]).mean()\n",
    "        print(f'Average validation loss for Epoch {trainer.current_epoch + 1}: {avg_loss}')\n",
    "        tensorboard_logs = {'val_loss': avg_loss}\n",
    "        return {'val_loss': avg_loss, 'log': tensorboard_logs}\n",
    "\n",
    "    #TEST LOOP\n",
    "    def test_step(self, batch, batch_idx):\n",
    "        #x, y = batch['image'], batch['label']\n",
    "        x, y = batch\n",
    "        y_hat = self.forward(x)\n",
    "        return {'test_loss': self.loss_function(y_hat, y)}\n",
    "\n",
    "    def test_epoch_end(self, outputs):\n",
    "        avg_loss = torch.stack([x['test_loss'] for x in outputs]).mean()\n",
    "        tensorboard_logs = {'test_loss': avg_loss}\n",
    "        return {'avg_test_loss': avg_loss, 'log': tensorboard_logs}\n",
    "\n",
    "    # OPTIMIZER\n",
    "    def configure_optimizers(self):\n",
    "        optimizer = torch.optim.Adam(self.parameters(), lr=self.learning_rate)\n",
    "        return optimizer\n",
    "    \n",
    "    #DATASET + TRANSFORMS\n",
    "    def prepare_data(self):\n",
    "        train_transforms = Compose([LoadPNG(), AddChannel(), ScaleIntensity(), RandRotate(degrees=15, prob=0.5, reshape=False), RandFlip(spatial_axis=0, prob=0.5),\n",
    "                                    RandZoom(min_zoom=0.9, max_zoom=1.1, prob=0.5, keep_size=True), ToTensor()])\n",
    "        val_transforms = Compose([LoadPNG(), AddChannel(), ScaleIntensity(), ToTensor()])\n",
    "        \n",
    "        data_dir = str(Path.cwd().parent / 'data' / 'MedNIST')\n",
    "        class_names = sorted([x for x in os.listdir(data_dir) if os.path.isdir(os.path.join(data_dir, x))])\n",
    "        num_class = len(class_names)\n",
    "        image_files = [[os.path.join(data_dir, class_name, x)\n",
    "                        for x in os.listdir(os.path.join(data_dir, class_name))] \n",
    "                       for class_name in class_names]\n",
    "        image_file_list = []\n",
    "        image_label_list = []\n",
    "        for i, class_name in enumerate(class_names):\n",
    "            image_file_list.extend(image_files[i])\n",
    "            image_label_list.extend([i] * len(image_files[i]))\n",
    "        \n",
    "        X_trainval, X_test, y_trainval, y_test = train_test_split(image_file_list, image_label_list, test_size=0.1, stratify=image_label_list)\n",
    "        X_train, X_val, y_train, y_val = train_test_split(X_trainval, y_trainval, test_size=0.1, stratify=y_trainval)\n",
    "        \n",
    "        #train_dict = [{'image': image_name, 'label': label_name} for image_name, label_name in zip(X_train, y_train)]\n",
    "        #val_dict = [{'image': image_name, 'label': label_name} for image_name, label_name in zip(X_val, y_val)]\n",
    "        #test_dict = [{'image': image_name, 'label': label_name} for image_name, label_name in zip(X_test, y_test)]\n",
    "        \n",
    "        # Create datasets\n",
    "        #self.train_dataset = monai.data.Dataset(train_dict, transform=train_transforms)\n",
    "        #self.val_dataset = monai.data.Dataset(val_dict, transform=val_transforms)\n",
    "        #self.test_dataset = monai.data.Dataset(test_dict, transform=val_transforms)\n",
    "        self.train_dataset = MedNISTDataset(X_train, y_train, train_transforms)\n",
    "        self.val_dataset = MedNISTDataset(X_val, y_val, val_transforms)\n",
    "        self.test_dataset = MedNISTDataset(X_test, y_test, val_transforms)\n",
    "        \n",
    "    # DATALOADERS\n",
    "    def train_dataloader(self):\n",
    "        return DataLoader(self.train_dataset, batch_size=self.batch_size, num_workers=self.hparams.num_workers, shuffle=True)\n",
    "\n",
    "    def val_dataloader(self):\n",
    "        return DataLoader(self.val_dataset, batch_size=self.batch_size, num_workers=self.hparams.num_workers, shuffle=False)\n",
    "\n",
    "    def test_dataloader(self):\n",
    "        return DataLoader(self.test_dataset, batch_size=self.batch_size, num_workers=self.hparams.num_workers, shuffle=False)"
   ]
  },
  {
   "cell_type": "markdown",
   "metadata": {},
   "source": [
    "Normally when I'm testing out code, I like to examine the learning rate finder plot. Under these circumstances, I run roughly the following code:\n",
    "\n",
    "```python\n",
    "model = Net()\n",
    "\n",
    "# Learning rate finder\n",
    "trainer = Trainer(gpus=1)\n",
    "lr_finder = trainer.lr_find(model)\n",
    "#Results\n",
    "#lr_finder.results\n",
    "#Plot results\n",
    "fig = lr_finder.plot(suggest=True)\n",
    "fig.show()\n",
    "#get suggestion\n",
    "new_lr = lr_finder.suggestion()\n",
    "\n",
    "model.hparams.learning_rate = new_lr\n",
    "```\n",
    "\n",
    "This will print out a pretty plot with the suggested learning rate highlighted. PyTorch Lighting includes the `auto_lr_find` argument, which I'd like to try out here. I haven't previously used the `auto_scale_batch_size` option, so I'll give it a shot here as well. Seems like a brute force approach to figure out the optimal batch size before running into the OOM error problem (inspired by 'Torch Memory-adaptive Algorithms' (TOMA): [GitHub](https://github.com/BlackHC/toma)).\n",
    "\n",
    "The default method begins with a much lower batch size than I would prefer for this particular dataset, so I wonder if the preferred approach would be to determine the maximum tolerable batch size using the following:\n",
    "\n",
    "```python\n",
    "model = Net()\n",
    "\n",
    "trainer = Trainer(gpus=1)\n",
    "\n",
    "new_batch_size = trainer.scale_batch_size(model, mode='binsearch', steps_per_trial=3, init_val=256, max_trials=10, batch_arg_name='batch_size')\n",
    "model.hparams.batch_size = new_batch_size\n",
    "```\n",
    "\n",
    "> Using 'power' the `batch_size` is set to 512, whereas using 'binsearch' it is 816. Using the above code, we find the max tolerable batch size on my GPU is 952."
   ]
  },
  {
   "cell_type": "code",
   "execution_count": 11,
   "metadata": {},
   "outputs": [
    {
     "name": "stderr",
     "output_type": "stream",
     "text": [
      "GPU available: True, used: True\n",
      "TPU available: False, using: 0 TPU cores\n",
      "CUDA_VISIBLE_DEVICES: [0]\n"
     ]
    }
   ],
   "source": [
    "model = Net()\n",
    "\n",
    "trainer = Trainer(gpus=1)"
   ]
  },
  {
   "cell_type": "code",
   "execution_count": 12,
   "metadata": {},
   "outputs": [
    {
     "name": "stdout",
     "output_type": "stream",
     "text": [
      "Average validation loss for Epoch 1: 1.7977173328399658\n"
     ]
    },
    {
     "name": "stderr",
     "output_type": "stream",
     "text": [
      "Batch size 512 succeeded, trying batch size 1024\n"
     ]
    },
    {
     "name": "stdout",
     "output_type": "stream",
     "text": [
      "Average validation loss for Epoch 1: 1.564561128616333\n"
     ]
    },
    {
     "name": "stderr",
     "output_type": "stream",
     "text": [
      "Batch size 1024 failed, trying batch size 768\n"
     ]
    },
    {
     "name": "stdout",
     "output_type": "stream",
     "text": [
      "Average validation loss for Epoch 1: 1.5562856197357178\n"
     ]
    },
    {
     "name": "stderr",
     "output_type": "stream",
     "text": [
      "Batch size 768 succeeded, trying batch size 896\n"
     ]
    },
    {
     "name": "stdout",
     "output_type": "stream",
     "text": [
      "Average validation loss for Epoch 1: 1.5530883073806763\n"
     ]
    },
    {
     "name": "stderr",
     "output_type": "stream",
     "text": [
      "Batch size 896 succeeded, trying batch size 960\n"
     ]
    },
    {
     "name": "stdout",
     "output_type": "stream",
     "text": [
      "Average validation loss for Epoch 1: 1.4316909313201904\n"
     ]
    },
    {
     "name": "stderr",
     "output_type": "stream",
     "text": [
      "Batch size 960 failed, trying batch size 928\n"
     ]
    },
    {
     "name": "stdout",
     "output_type": "stream",
     "text": [
      "Average validation loss for Epoch 1: 1.4176322221755981\n"
     ]
    },
    {
     "name": "stderr",
     "output_type": "stream",
     "text": [
      "Batch size 928 succeeded, trying batch size 944\n"
     ]
    },
    {
     "name": "stdout",
     "output_type": "stream",
     "text": [
      "Average validation loss for Epoch 1: 2.1878929138183594\n"
     ]
    },
    {
     "name": "stderr",
     "output_type": "stream",
     "text": [
      "Batch size 944 succeeded, trying batch size 952\n"
     ]
    },
    {
     "name": "stdout",
     "output_type": "stream",
     "text": [
      "Average validation loss for Epoch 1: 1.254901647567749\n"
     ]
    },
    {
     "name": "stderr",
     "output_type": "stream",
     "text": [
      "Batch size 952 succeeded, trying batch size 956\n"
     ]
    },
    {
     "name": "stdout",
     "output_type": "stream",
     "text": [
      "Average validation loss for Epoch 1: 1.1281368732452393\n"
     ]
    },
    {
     "name": "stderr",
     "output_type": "stream",
     "text": [
      "Batch size 956 failed, trying batch size 954\n"
     ]
    },
    {
     "name": "stdout",
     "output_type": "stream",
     "text": [
      "Average validation loss for Epoch 1: 1.0074009895324707\n"
     ]
    },
    {
     "name": "stderr",
     "output_type": "stream",
     "text": [
      "Batch size 954 failed, trying batch size 953\n"
     ]
    },
    {
     "name": "stdout",
     "output_type": "stream",
     "text": [
      "Average validation loss for Epoch 1: 0.7848701477050781\n"
     ]
    },
    {
     "name": "stderr",
     "output_type": "stream",
     "text": [
      "Batch size 953 failed, trying batch size 952\n",
      "Finished batch size finder, will continue with full run using batch size 952\n"
     ]
    }
   ],
   "source": [
    "new_batch_size = trainer.scale_batch_size(model, mode='binsearch', steps_per_trial=3, init_val=512, max_trials=10, batch_arg_name='batch_size')"
   ]
  },
  {
   "cell_type": "code",
   "execution_count": 13,
   "metadata": {},
   "outputs": [],
   "source": [
    "model.hparams.batch_size = new_batch_size"
   ]
  },
  {
   "cell_type": "code",
   "execution_count": 14,
   "metadata": {},
   "outputs": [
    {
     "data": {
      "text/plain": [
       "\"batch_size\":    952\n",
       "\"learning_rate\": 0.001\n",
       "\"num_workers\":   10"
      ]
     },
     "execution_count": 14,
     "metadata": {},
     "output_type": "execute_result"
    }
   ],
   "source": [
    "model.hparams"
   ]
  },
  {
   "cell_type": "code",
   "execution_count": 15,
   "metadata": {},
   "outputs": [
    {
     "name": "stderr",
     "output_type": "stream",
     "text": [
      "GPU available: True, used: True\n",
      "TPU available: False, using: 0 TPU cores\n",
      "CUDA_VISIBLE_DEVICES: [0]\n",
      "\n",
      "  | Name          | Type             | Params\n",
      "---------------------------------------------------\n",
      "0 | model         | DenseNet         | 6 M   \n",
      "1 | loss_function | CrossEntropyLoss | 0     \n"
     ]
    },
    {
     "name": "stdout",
     "output_type": "stream",
     "text": [
      "Average validation loss for Epoch 1: 1.808056116104126\n"
     ]
    },
    {
     "data": {
      "application/vnd.jupyter.widget-view+json": {
       "model_id": "d5543295562d4ef38421921dad2b8252",
       "version_major": 2,
       "version_minor": 0
      },
      "text/plain": [
       "HBox(children=(FloatProgress(value=0.0, description='Finding best initial lr', style=ProgressStyle(description…"
      ]
     },
     "metadata": {},
     "output_type": "display_data"
    },
    {
     "name": "stderr",
     "output_type": "stream",
     "text": [
      "Learning rate set to 0.0004365158322401656\n",
      "\n",
      "  | Name          | Type             | Params\n",
      "---------------------------------------------------\n",
      "0 | model         | DenseNet         | 6 M   \n",
      "1 | loss_function | CrossEntropyLoss | 0     \n"
     ]
    },
    {
     "data": {
      "application/vnd.jupyter.widget-view+json": {
       "model_id": "",
       "version_major": 2,
       "version_minor": 0
      },
      "text/plain": [
       "HBox(children=(FloatProgress(value=1.0, bar_style='info', description='Validation sanity check', layout=Layout…"
      ]
     },
     "metadata": {},
     "output_type": "display_data"
    },
    {
     "name": "stdout",
     "output_type": "stream",
     "text": [
      "Average validation loss for Epoch 2: 1.808056116104126\n"
     ]
    },
    {
     "data": {
      "application/vnd.jupyter.widget-view+json": {
       "model_id": "71186e62d2774026b674d7f971135c57",
       "version_major": 2,
       "version_minor": 0
      },
      "text/plain": [
       "HBox(children=(FloatProgress(value=1.0, bar_style='info', description='Training', layout=Layout(flex='2'), max…"
      ]
     },
     "metadata": {},
     "output_type": "display_data"
    },
    {
     "data": {
      "application/vnd.jupyter.widget-view+json": {
       "model_id": "",
       "version_major": 2,
       "version_minor": 0
      },
      "text/plain": [
       "HBox(children=(FloatProgress(value=1.0, bar_style='info', description='Validating', layout=Layout(flex='2'), m…"
      ]
     },
     "metadata": {},
     "output_type": "display_data"
    },
    {
     "name": "stdout",
     "output_type": "stream",
     "text": [
      "Average validation loss for Epoch 2: 0.0126252556219697\n"
     ]
    },
    {
     "data": {
      "application/vnd.jupyter.widget-view+json": {
       "model_id": "",
       "version_major": 2,
       "version_minor": 0
      },
      "text/plain": [
       "HBox(children=(FloatProgress(value=1.0, bar_style='info', description='Validating', layout=Layout(flex='2'), m…"
      ]
     },
     "metadata": {},
     "output_type": "display_data"
    },
    {
     "name": "stdout",
     "output_type": "stream",
     "text": [
      "Average validation loss for Epoch 3: 0.004475963301956654\n"
     ]
    },
    {
     "data": {
      "application/vnd.jupyter.widget-view+json": {
       "model_id": "",
       "version_major": 2,
       "version_minor": 0
      },
      "text/plain": [
       "HBox(children=(FloatProgress(value=1.0, bar_style='info', description='Validating', layout=Layout(flex='2'), m…"
      ]
     },
     "metadata": {},
     "output_type": "display_data"
    },
    {
     "name": "stdout",
     "output_type": "stream",
     "text": [
      "Average validation loss for Epoch 4: 0.006038493476808071\n"
     ]
    },
    {
     "data": {
      "application/vnd.jupyter.widget-view+json": {
       "model_id": "",
       "version_major": 2,
       "version_minor": 0
      },
      "text/plain": [
       "HBox(children=(FloatProgress(value=1.0, bar_style='info', description='Validating', layout=Layout(flex='2'), m…"
      ]
     },
     "metadata": {},
     "output_type": "display_data"
    },
    {
     "name": "stdout",
     "output_type": "stream",
     "text": [
      "Average validation loss for Epoch 5: 0.009723618626594543\n"
     ]
    },
    {
     "data": {
      "application/vnd.jupyter.widget-view+json": {
       "model_id": "",
       "version_major": 2,
       "version_minor": 0
      },
      "text/plain": [
       "HBox(children=(FloatProgress(value=1.0, bar_style='info', description='Validating', layout=Layout(flex='2'), m…"
      ]
     },
     "metadata": {},
     "output_type": "display_data"
    },
    {
     "name": "stdout",
     "output_type": "stream",
     "text": [
      "Average validation loss for Epoch 6: 0.0035529318265616894\n"
     ]
    },
    {
     "data": {
      "application/vnd.jupyter.widget-view+json": {
       "model_id": "",
       "version_major": 2,
       "version_minor": 0
      },
      "text/plain": [
       "HBox(children=(FloatProgress(value=1.0, bar_style='info', description='Validating', layout=Layout(flex='2'), m…"
      ]
     },
     "metadata": {},
     "output_type": "display_data"
    },
    {
     "name": "stdout",
     "output_type": "stream",
     "text": [
      "Average validation loss for Epoch 7: 0.00670781172811985\n"
     ]
    },
    {
     "data": {
      "application/vnd.jupyter.widget-view+json": {
       "model_id": "",
       "version_major": 2,
       "version_minor": 0
      },
      "text/plain": [
       "HBox(children=(FloatProgress(value=1.0, bar_style='info', description='Validating', layout=Layout(flex='2'), m…"
      ]
     },
     "metadata": {},
     "output_type": "display_data"
    },
    {
     "name": "stdout",
     "output_type": "stream",
     "text": [
      "Average validation loss for Epoch 8: 0.002551330951973796\n"
     ]
    },
    {
     "data": {
      "application/vnd.jupyter.widget-view+json": {
       "model_id": "",
       "version_major": 2,
       "version_minor": 0
      },
      "text/plain": [
       "HBox(children=(FloatProgress(value=1.0, bar_style='info', description='Validating', layout=Layout(flex='2'), m…"
      ]
     },
     "metadata": {},
     "output_type": "display_data"
    },
    {
     "name": "stdout",
     "output_type": "stream",
     "text": [
      "Average validation loss for Epoch 9: 0.002628372050821781\n"
     ]
    },
    {
     "data": {
      "application/vnd.jupyter.widget-view+json": {
       "model_id": "",
       "version_major": 2,
       "version_minor": 0
      },
      "text/plain": [
       "HBox(children=(FloatProgress(value=1.0, bar_style='info', description='Validating', layout=Layout(flex='2'), m…"
      ]
     },
     "metadata": {},
     "output_type": "display_data"
    },
    {
     "name": "stdout",
     "output_type": "stream",
     "text": [
      "Average validation loss for Epoch 10: 0.002454281784594059\n"
     ]
    },
    {
     "data": {
      "application/vnd.jupyter.widget-view+json": {
       "model_id": "",
       "version_major": 2,
       "version_minor": 0
      },
      "text/plain": [
       "HBox(children=(FloatProgress(value=1.0, bar_style='info', description='Validating', layout=Layout(flex='2'), m…"
      ]
     },
     "metadata": {},
     "output_type": "display_data"
    },
    {
     "name": "stdout",
     "output_type": "stream",
     "text": [
      "Average validation loss for Epoch 11: 0.0027571930550038815\n"
     ]
    },
    {
     "data": {
      "application/vnd.jupyter.widget-view+json": {
       "model_id": "",
       "version_major": 2,
       "version_minor": 0
      },
      "text/plain": [
       "HBox(children=(FloatProgress(value=1.0, bar_style='info', description='Validating', layout=Layout(flex='2'), m…"
      ]
     },
     "metadata": {},
     "output_type": "display_data"
    },
    {
     "name": "stdout",
     "output_type": "stream",
     "text": [
      "Average validation loss for Epoch 12: 0.0020909032318741083\n"
     ]
    },
    {
     "data": {
      "application/vnd.jupyter.widget-view+json": {
       "model_id": "",
       "version_major": 2,
       "version_minor": 0
      },
      "text/plain": [
       "HBox(children=(FloatProgress(value=1.0, bar_style='info', description='Validating', layout=Layout(flex='2'), m…"
      ]
     },
     "metadata": {},
     "output_type": "display_data"
    },
    {
     "name": "stdout",
     "output_type": "stream",
     "text": [
      "Average validation loss for Epoch 13: 0.0023548242170363665\n"
     ]
    },
    {
     "data": {
      "application/vnd.jupyter.widget-view+json": {
       "model_id": "",
       "version_major": 2,
       "version_minor": 0
      },
      "text/plain": [
       "HBox(children=(FloatProgress(value=1.0, bar_style='info', description='Validating', layout=Layout(flex='2'), m…"
      ]
     },
     "metadata": {},
     "output_type": "display_data"
    },
    {
     "name": "stdout",
     "output_type": "stream",
     "text": [
      "Average validation loss for Epoch 14: 0.0009149027173407376\n"
     ]
    },
    {
     "data": {
      "application/vnd.jupyter.widget-view+json": {
       "model_id": "",
       "version_major": 2,
       "version_minor": 0
      },
      "text/plain": [
       "HBox(children=(FloatProgress(value=1.0, bar_style='info', description='Validating', layout=Layout(flex='2'), m…"
      ]
     },
     "metadata": {},
     "output_type": "display_data"
    },
    {
     "name": "stdout",
     "output_type": "stream",
     "text": [
      "Average validation loss for Epoch 15: 0.00201990595087409\n"
     ]
    },
    {
     "data": {
      "text/plain": [
       "1"
      ]
     },
     "execution_count": 15,
     "metadata": {},
     "output_type": "execute_result"
    }
   ],
   "source": [
    "model = Net()\n",
    "\n",
    "#Early Stopping\n",
    "early_stop_callback = EarlyStopping(\n",
    "    monitor='val_loss',\n",
    "    min_delta=0.001,\n",
    "    patience=3,\n",
    "    verbose=False,\n",
    "    mode='min'\n",
    ")\n",
    "\n",
    "#Save model with the whenever 'val_loss' has a new 'min'\n",
    "checkpoint_callback = ModelCheckpoint(filepath= Path.cwd() /'mednist_{epoch}-{val_loss:.3f}',\n",
    "                                      monitor='val_loss', mode='min', save_top_k=2)\n",
    "\n",
    "#trainer = Trainer(fast_dev_run=True, gpus=1)                   # Unit Testing\n",
    "#trainer = Trainer(overfit_pct=0.01, gpus=1, max_epochs=5)      # Overfit test\n",
    "trainer = Trainer(max_epochs=15, gpus=1, \n",
    "                  auto_lr_find=True, #auto_scale_batch_size='power',\n",
    "                  early_stop_callback=early_stop_callback, checkpoint_callback=checkpoint_callback)\n",
    "\n",
    "trainer.fit(model)"
   ]
  },
  {
   "cell_type": "code",
   "execution_count": null,
   "metadata": {},
   "outputs": [],
   "source": [
    "# Clear any logs from previous runs\n",
    "!rm -rf ./lightning_logs/"
   ]
  },
  {
   "cell_type": "code",
   "execution_count": 18,
   "metadata": {},
   "outputs": [
    {
     "data": {
      "text/plain": [
       "Reusing TensorBoard on port 6006 (pid 9752), started 0:41:23 ago. (Use '!kill 9752' to kill it.)"
      ]
     },
     "metadata": {},
     "output_type": "display_data"
    },
    {
     "data": {
      "text/html": [
       "\n",
       "      <iframe id=\"tensorboard-frame-bdace482af1e1856\" width=\"100%\" height=\"800\" frameborder=\"0\">\n",
       "      </iframe>\n",
       "      <script>\n",
       "        (function() {\n",
       "          const frame = document.getElementById(\"tensorboard-frame-bdace482af1e1856\");\n",
       "          const url = new URL(\"/\", window.location);\n",
       "          url.port = 6006;\n",
       "          frame.src = url;\n",
       "        })();\n",
       "      </script>\n",
       "  "
      ],
      "text/plain": [
       "<IPython.core.display.HTML object>"
      ]
     },
     "metadata": {},
     "output_type": "display_data"
    }
   ],
   "source": [
    "# Start tensorboard.\n",
    "%load_ext tensorboard\n",
    "%tensorboard --logdir lightning_logs/"
   ]
  },
  {
   "cell_type": "code",
   "execution_count": 28,
   "metadata": {},
   "outputs": [],
   "source": [
    "#torch.cuda.empty_cache()"
   ]
  },
  {
   "cell_type": "code",
   "execution_count": null,
   "metadata": {},
   "outputs": [],
   "source": []
  }
 ],
 "metadata": {
  "kernelspec": {
   "display_name": "PyTorch",
   "language": "python",
   "name": "pytorch"
  },
  "language_info": {
   "codemirror_mode": {
    "name": "ipython",
    "version": 3
   },
   "file_extension": ".py",
   "mimetype": "text/x-python",
   "name": "python",
   "nbconvert_exporter": "python",
   "pygments_lexer": "ipython3",
   "version": "3.8.3"
  }
 },
 "nbformat": 4,
 "nbformat_minor": 4
}
